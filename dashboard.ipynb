{
 "cells": [
  {
   "cell_type": "markdown",
   "metadata": {},
   "source": [
    "# San Francisco Rental Prices Dashboard\n",
    "\n",
    "In this notebook, you will compile the visualizations from the previous analysis into functions that can be used for a Panel dashboard."
   ]
  },
  {
   "cell_type": "code",
   "execution_count": 51,
   "metadata": {},
   "outputs": [],
   "source": [
    "# imports\n",
    "import panel as pn\n",
    "pn.extension('plotly')\n",
    "import plotly.express as px\n",
    "import pandas as pd\n",
    "import hvplot.pandas\n",
    "import matplotlib.pyplot as plt\n",
    "import os\n",
    "from pathlib import Path\n",
    "from dotenv import load_dotenv"
   ]
  },
  {
   "cell_type": "code",
   "execution_count": 52,
   "metadata": {},
   "outputs": [],
   "source": [
    "# Read the Mapbox API key\n",
    "load_dotenv()\n",
    "map_box_api = os.getenv(\"mapbox\")\n",
    "px.set_mapbox_access_token(map_box_api)"
   ]
  },
  {
   "cell_type": "markdown",
   "metadata": {},
   "source": [
    "# Import Data"
   ]
  },
  {
   "cell_type": "code",
   "execution_count": 53,
   "metadata": {},
   "outputs": [],
   "source": [
    "# Import the necessary CSVs to Pandas DataFrames\n",
    "file_path = Path(\"Data/sfo_neighborhoods_census_data.csv\")\n",
    "sfo_data = pd.read_csv(file_path, index_col=\"year\")\n",
    "\n",
    "file_path_coord = Path(\"../Pythonic_Monopoly/Data/neighborhoods_coordinates.csv\")\n",
    "coordinate_data = pd.read_csv(file_path_coord)"
   ]
  },
  {
   "cell_type": "markdown",
   "metadata": {},
   "source": [
    "- - -"
   ]
  },
  {
   "cell_type": "markdown",
   "metadata": {},
   "source": [
    "## Panel Visualizations\n",
    "\n",
    "In this section, you will copy the code for each plot type from your analysis notebook and place it into separate functions that Panel can use to create panes for the dashboard. \n",
    "\n",
    "These functions will convert the plot object to a Panel pane.\n",
    "\n",
    "Be sure to include any DataFrame transformation/manipulation code required along with the plotting code.\n",
    "\n",
    "Return a Panel pane object from each function that can be used to build the dashboard.\n",
    "\n",
    "Note: Remove any `.show()` lines from the code. We want to return the plots instead of showing them. The Panel dashboard will then display the plots."
   ]
  },
  {
   "cell_type": "code",
   "execution_count": 54,
   "metadata": {},
   "outputs": [],
   "source": [
    "# Define Panel Visualization Functions\n",
    "def housing_units_per_year():\n",
    "    \"\"\"Housing Units Per Year.\"\"\"\n",
    "    \n",
    "    housing_units_per_year = sfo_data[[\"housing_units\"]]\n",
    "    mean_housing_units = housing_units_per_year.groupby('year').mean()\n",
    "    mean_ousing_units_fig = plt.figure()\n",
    "    mean_housing_units_plot = mean_housing_units.hvplot.bar(title=\"Housing Units in San Francisco from 2010 to 2016\", ylim=(370000, 387500)).opts(yformatter=\"%.0f\")\n",
    "    plt.close(mean_housing_units_fig)\n",
    "\n",
    "def average_gross_rent():\n",
    "    \"\"\"Average Gross Rent in San Francisco Per Year.\"\"\"\n",
    "    \n",
    "    gross_rent = sfo_data[[\"gross_rent\"]]\n",
    "    gross_rent_units = gross_rent.groupby('year').mean()\n",
    "    gross_rent_fig = plt.figure()\n",
    "    gross_rent_plot = gross_rent_units.plot.line(x=\"year\", y=\"gross_rent\", title=\"Gross Rent per Year\")\n",
    "    plt.close(gross_rent_fig)\n",
    "    return pn.pane.Matplotlib(gross_rent_fig)\n",
    "\n",
    "\n",
    "\n",
    "def average_sales_price():\n",
    "    \"\"\"Average Sales Price Per Year.\"\"\"\n",
    "    \n",
    "    sqt_foot = sfo_data[[\"sale_price_sqr_foot\"]]\n",
    "    sqt_foot_units = sqt_foot.groupby('year').mean()\n",
    "    sale_price_fig = plt.figure()\n",
    "    sale_price_plot = sqt_foot_units.plot.line(x=\"year\", y=\"sale_price_sqr_foot\", title=\"Average Sales Price per Square Foot Annually\")\n",
    "    plt.close(sale_price_fig)\n",
    "    return pn.pane.Matplotlib(sale_price_fig)\n",
    "\n",
    "\n",
    "\n",
    "def average_price_by_neighborhood():\n",
    "    \"\"\"Average Prices by Neighborhood.\"\"\"\n",
    "    \n",
    "    avg_price = neighborhood_data[\"neighborhood\"]\n",
    "    neighborhood = sfo_data.groupby([\"year\", \"neighborhood\"]).mean()\n",
    "    avg_price_fig = plt.figure()\n",
    "    avg_price_plot = neighborhood.hvplot.line(\n",
    "                        x=\"year\",\n",
    "                        y=\"sale_price_sqr_foot\",\n",
    "                        groupby=\"neighborhood\",\n",
    "                        xlabel=\"Year\",\n",
    "                        ylabel=\"Average Price per SqFt by Year\",\n",
    "                        ylim=(100, 800))\n",
    "    plt.close(avg_price_fig)\n",
    "    return pn.pane.Matplotlib(avg_price_fig)\n",
    "\n",
    "\n",
    "\n",
    "def top_most_expensive_neighborhoods():\n",
    "    \"\"\"Top 10 Most Expensive Neighborhoods.\"\"\"\n",
    "\n",
    "    neighborhood_sales = sfo_data.groupby([\"neighborhood\"], as_index=False).mean()\n",
    "    top_ten = neighborhood_sales.nlargest(10, \"sale_price_sqr_foot\").round(2)\n",
    "    top_ten_fig = plt.figure()\n",
    "    top_ten_plot = top_ten.hvplot.bar(x=\"neighborhood\",\n",
    "                   y=\"sale_price_sqr_foot\",\n",
    "                   rot=60,\n",
    "                   title=\"Top 10 Most Expensive Neighborhoods in SFO\",\n",
    "                   xlabel=\"Neighborhood\",\n",
    "                   ylabel=\"Avg. Sale Price per Square Foot\",\n",
    "                   ylim=(100, 1000))\n",
    "    plt.close(top_ten_fig)\n",
    "    return pn.pane.Matplotlib(top_ten_fig)\n",
    "\n",
    "\n",
    "def most_expensive_neighborhoods_rent_sales():\n",
    "    \"\"\"Comparison of Rent and Sales Prices of Most Expensive Neighborhoods.\"\"\"   \n",
    "    \n",
    "    neighborhood = sfo_data.groupby([\"year\", \"neighborhood\"]).mean()\n",
    "    compare_fig = plt.figure()\n",
    "    compare_plot = neighborhood.hvplot.bar(\n",
    "                        x=\"year\",\n",
    "                        y=[\"gross_rent\",\"sale_price_sqr_foot\"],\n",
    "                        groupby=\"neighborhood\",\n",
    "                        xlabel=\"Year/Neighborhood\",\n",
    "                        ylabel=\"Num Housing Units\",\n",
    "                        rot=60,\n",
    "                        title=\"Comparing Cost to Purchase vs Rental Income\")\n",
    "    plt.close(compare_fig)\n",
    "    return pn.pane.Matplotlib(compare_fig)\n",
    "\n",
    "    \n",
    "    \n",
    "def parallel_coordinates():\n",
    "    \"\"\"Parallel Coordinates Plot.\"\"\"\n",
    "\n",
    "    # YOUR CODE HERE!\n",
    "\n",
    "\n",
    "\n",
    "def parallel_categories():\n",
    "    \"\"\"Parallel Categories Plot.\"\"\"\n",
    "    \n",
    "    # YOUR CODE HERE!\n",
    "\n",
    "\n",
    "\n",
    "def neighborhood_map():\n",
    "    \"\"\"Neighborhood Map.\"\"\"\n",
    "\n",
    "    avg_neighborhood = sfo_data.groupby([\"neighborhood\"]).mean()\n",
    "    avg_neighborhood.reset_index(inplace=True)\n",
    "    avg_locations = pd.concat([coordinate_data, avg_neighborhood], axis=\"columns\", join=\"inner\")\n",
    "    avg_locations.drop(columns=\"neighborhood\", inplace=True)\n",
    "    map_fig = plt.figure()\n",
    "    map_plot = px.scatter_mapbox(\n",
    "                    avg_locations,\n",
    "                    lat=\"Lat\",\n",
    "                    lon=\"Lon\",\n",
    "                    size=\"sale_price_sqr_foot\",\n",
    "                    color=\"gross_rent\",\n",
    "                    zoom=10,\n",
    "                    title=\"Average Prices in San Francisco\")\n",
    "    plt.close(map_fig)\n",
    "    return pn.pane.Matplotlib(map_fig)\n",
    "\n",
    "\n",
    "def sunburst():\n",
    "    \"\"\"Sunburst Plot.\"\"\"\n",
    "    \n",
    "    # YOUR CODE HERE!\n"
   ]
  },
  {
   "cell_type": "markdown",
   "metadata": {},
   "source": [
    "## Panel Dashboard\n",
    "\n",
    "In this section, you will combine all of the plots into a single dashboard view using Panel. Be creative with your dashboard design!"
   ]
  },
  {
   "cell_type": "code",
   "execution_count": 61,
   "metadata": {},
   "outputs": [
    {
     "ename": "SyntaxError",
     "evalue": "unexpected EOF while parsing (<ipython-input-61-0e30483cbb70>, line 19)",
     "output_type": "error",
     "traceback": [
      "\u001b[1;36m  File \u001b[1;32m\"<ipython-input-61-0e30483cbb70>\"\u001b[1;36m, line \u001b[1;32m19\u001b[0m\n\u001b[1;33m    # YOUR CODE HERE!\u001b[0m\n\u001b[1;37m                     ^\u001b[0m\n\u001b[1;31mSyntaxError\u001b[0m\u001b[1;31m:\u001b[0m unexpected EOF while parsing\n"
     ]
    }
   ],
   "source": [
    "# Create a Title for the Dashboard\n",
    "dashboard_title = '# San Francisco Rental Price Visualizations'\n",
    "\n",
    "# Create a tab layout for the dashboard\n",
    "row_1 = pn.Row(average_sales_price(), average_gross_rent(), housing_units_per_year())\n",
    "row_2 = pn.Row(average_price_by_neighborhood(), top_most_expensive_neighborhoods())\n",
    "row_3 = pn.Row(most_expensive_neighborhoods_rent_sales())\n",
    "row_4 = pn.Row(neighborhood_map())\n",
    "\n",
    "dashboard = pn.Column(dashboard_title, \n",
    "    pn.Tabs(\n",
    "    (\"Averages by Household\", row_1),\n",
    "    (\"Neighborhoods\", row_2),\n",
    "    (\"Comparisons\", row_3),\n",
    "    (\"Scatter Map\", row_4)\n",
    "\n",
    "\n",
    "# Create the dashboard\n",
    "# YOUR CODE HERE!"
   ]
  },
  {
   "cell_type": "markdown",
   "metadata": {},
   "source": [
    "## Serve the Panel Dashboard"
   ]
  },
  {
   "cell_type": "code",
   "execution_count": 56,
   "metadata": {},
   "outputs": [
    {
     "data": {},
     "metadata": {},
     "output_type": "display_data"
    },
    {
     "data": {
      "application/vnd.holoviews_exec.v0+json": "",
      "text/html": [
       "<div id='1053'>\n",
       "\n",
       "\n",
       "\n",
       "\n",
       "\n",
       "  <div class=\"bk-root\" id=\"baf90a29-8c6d-4156-a1e8-9e673ad3b323\" data-root-id=\"1053\"></div>\n",
       "</div>\n",
       "<script type=\"application/javascript\">(function(root) {\n",
       "  function embed_document(root) {\n",
       "    var docs_json = {\"bbf64d63-79bc-43fd-b8a7-1b3afe7f9398\":{\"roots\":{\"references\":[{\"attributes\":{\"children\":[{\"id\":\"1058\"},{\"id\":\"1059\"}],\"margin\":[0,0,0,0],\"name\":\"Column01585\"},\"id\":\"1057\",\"type\":\"Column\"},{\"attributes\":{\"margin\":[0,0,0,0],\"name\":\"Column01613\"},\"id\":\"1058\",\"type\":\"Column\"},{\"attributes\":{\"height\":288,\"margin\":[5,5,5,5],\"name\":\"Matplotlib01610\",\"text\":\"&lt;img src=&quot;data:image/png;base64,iVBORw0KGgoAAAANSUhEUgAAA2AAAAJACAYAAADrSQUmAAAABHNCSVQICAgIfAhkiAAAAAlwSFlzAAAWJQAAFiUBSVIk8AAAADl0RVh0U29mdHdhcmUAbWF0cGxvdGxpYiB2ZXJzaW9uIDMuMC4zLCBodHRwOi8vbWF0cGxvdGxpYi5vcmcvnQurowAADH9JREFUeJzt1zEBwCAQwMBS/54fFYSBOwVZs2ZmPgAAAI77bwcAAAC8woABAABEDBgAAEDEgAEAAEQMGAAAQMSAAQAARAwYAABAxIABAABEDBgAAEDEgAEAAEQMGAAAQMSAAQAARAwYAABAxIABAABEDBgAAEDEgAEAAEQMGAAAQMSAAQAARAwYAABAxIABAABEDBgAAEDEgAEAAEQMGAAAQMSAAQAARAwYAABAxIABAABEDBgAAEDEgAEAAEQMGAAAQMSAAQAARAwYAABAxIABAABEDBgAAEDEgAEAAEQMGAAAQMSAAQAARAwYAABAxIABAABEDBgAAEDEgAEAAEQMGAAAQMSAAQAARAwYAABAxIABAABEDBgAAEDEgAEAAEQMGAAAQMSAAQAARAwYAABAxIABAABEDBgAAEDEgAEAAEQMGAAAQMSAAQAARAwYAABAxIABAABEDBgAAEDEgAEAAEQMGAAAQMSAAQAARAwYAABAxIABAABEDBgAAEDEgAEAAEQMGAAAQMSAAQAARAwYAABAxIABAABEDBgAAEDEgAEAAEQMGAAAQMSAAQAARAwYAABAxIABAABEDBgAAEDEgAEAAEQMGAAAQMSAAQAARAwYAABAxIABAABEDBgAAEDEgAEAAEQMGAAAQMSAAQAARAwYAABAxIABAABEDBgAAEDEgAEAAEQMGAAAQMSAAQAARAwYAABAxIABAABEDBgAAEDEgAEAAEQMGAAAQMSAAQAARAwYAABAxIABAABEDBgAAEDEgAEAAEQMGAAAQMSAAQAARAwYAABAxIABAABEDBgAAEDEgAEAAEQMGAAAQMSAAQAARAwYAABAxIABAABEDBgAAEDEgAEAAEQMGAAAQMSAAQAARAwYAABAxIABAABEDBgAAEDEgAEAAEQMGAAAQMSAAQAARAwYAABAxIABAABEDBgAAEDEgAEAAEQMGAAAQMSAAQAARAwYAABAxIABAABEDBgAAEDEgAEAAEQMGAAAQMSAAQAARAwYAABAxIABAABEDBgAAEDEgAEAAEQMGAAAQMSAAQAARAwYAABAxIABAABEDBgAAEDEgAEAAEQMGAAAQMSAAQAARAwYAABAxIABAABEDBgAAEDEgAEAAEQMGAAAQMSAAQAARAwYAABAxIABAABEDBgAAEDEgAEAAEQMGAAAQMSAAQAARAwYAABAxIABAABEDBgAAEDEgAEAAEQMGAAAQMSAAQAARAwYAABAxIABAABEDBgAAEDEgAEAAEQMGAAAQMSAAQAARAwYAABAxIABAABEDBgAAEDEgAEAAEQMGAAAQMSAAQAARAwYAABAxIABAABEDBgAAEDEgAEAAEQMGAAAQMSAAQAARAwYAABAxIABAABEDBgAAEDEgAEAAEQMGAAAQMSAAQAARAwYAABAxIABAABEDBgAAEDEgAEAAEQMGAAAQMSAAQAARAwYAABAxIABAABEDBgAAEDEgAEAAEQMGAAAQMSAAQAARAwYAABAxIABAABEDBgAAEDEgAEAAEQMGAAAQMSAAQAARAwYAABAxIABAABEDBgAAEDEgAEAAEQMGAAAQMSAAQAARAwYAABAxIABAABEDBgAAEDEgAEAAEQMGAAAQMSAAQAARAwYAABAxIABAABEDBgAAEDEgAEAAEQMGAAAQMSAAQAARAwYAABAxIABAABEDBgAAEDEgAEAAEQMGAAAQMSAAQAARAwYAABAxIABAABEDBgAAEDEgAEAAEQMGAAAQMSAAQAARAwYAABAxIABAABEDBgAAEDEgAEAAEQMGAAAQMSAAQAARAwYAABAxIABAABEDBgAAEDEgAEAAEQMGAAAQMSAAQAARAwYAABAxIABAABEDBgAAEDEgAEAAEQMGAAAQMSAAQAARAwYAABAxIABAABEDBgAAEDEgAEAAEQMGAAAQMSAAQAARAwYAABAxIABAABEDBgAAEDEgAEAAEQMGAAAQMSAAQAARAwYAABAxIABAABEDBgAAEDEgAEAAEQMGAAAQMSAAQAARAwYAABAxIABAABEDBgAAEDEgAEAAEQMGAAAQMSAAQAARAwYAABAxIABAABEDBgAAEDEgAEAAEQMGAAAQMSAAQAARAwYAABAxIABAABEDBgAAEDEgAEAAEQMGAAAQMSAAQAARAwYAABAxIABAABEDBgAAEDEgAEAAEQMGAAAQMSAAQAARAwYAABAxIABAABEDBgAAEDEgAEAAEQMGAAAQMSAAQAARAwYAABAxIABAABEDBgAAEDEgAEAAEQMGAAAQMSAAQAARAwYAABAxIABAABEDBgAAEDEgAEAAEQMGAAAQMSAAQAARAwYAABAxIABAABEDBgAAEDEgAEAAEQMGAAAQMSAAQAARAwYAABAxIABAABEDBgAAEDEgAEAAEQMGAAAQMSAAQAARAwYAABAxIABAABEDBgAAEDEgAEAAEQMGAAAQMSAAQAARAwYAABAxIABAABEDBgAAEDEgAEAAEQMGAAAQMSAAQAARAwYAABAxIABAABEDBgAAEDEgAEAAEQMGAAAQMSAAQAARAwYAABAxIABAABEDBgAAEDEgAEAAEQMGAAAQMSAAQAARAwYAABAxIABAABEDBgAAEDEgAEAAEQMGAAAQMSAAQAARAwYAABAxIABAABEDBgAAEDEgAEAAEQMGAAAQMSAAQAARAwYAABAxIABAABEDBgAAEDEgAEAAEQMGAAAQMSAAQAARAwYAABAxIABAABEDBgAAEDEgAEAAEQMGAAAQMSAAQAARAwYAABAxIABAABEDBgAAEDEgAEAAEQMGAAAQMSAAQAARAwYAABAxIABAABEDBgAAEDEgAEAAEQMGAAAQMSAAQAARAwYAABAxIABAABEDBgAAEDEgAEAAEQMGAAAQMSAAQAARAwYAABAxIABAABEDBgAAEDEgAEAAEQMGAAAQMSAAQAARAwYAABAxIABAABEDBgAAEDEgAEAAEQMGAAAQMSAAQAARAwYAABAxIABAABEDBgAAEDEgAEAAEQMGAAAQMSAAQAARAwYAABAxIABAABEDBgAAEDEgAEAAEQMGAAAQMSAAQAARAwYAABAxIABAABEDBgAAEDEgAEAAEQMGAAAQMSAAQAARAwYAABAxIABAABEDBgAAEDEgAEAAEQMGAAAQMSAAQAARAwYAABAxIABAABEDBgAAEDEgAEAAEQMGAAAQMSAAQAARAwYAABAxIABAABEDBgAAEDEgAEAAEQMGAAAQMSAAQAARAwYAABAxIABAABEDBgAAEDEgAEAAEQMGAAAQMSAAQAARAwYAABAxIABAABEDBgAAEDEgAEAAEQMGAAAQMSAAQAARAwYAABAxIABAABEDBgAAEDEgAEAAEQMGAAAQMSAAQAARAwYAABAxIABAABEDBgAAEDEgAEAAEQMGAAAQMSAAQAARAwYAABAxIABAABEDBgAAEDEgAEAAEQMGAAAQMSAAQAARAwYAABAxIABAABEDBgAAEDEgAEAAEQMGAAAQMSAAQAARAwYAABAxIABAABEDBgAAEDEgAEAAEQMGAAAQMSAAQAARAwYAABAxIABAABEDBgAAEDEgAEAAEQMGAAAQMSAAQAARAwYAABAxIABAABEDBgAAEDEgAEAAEQMGAAAQMSAAQAARAwYAABAxIABAABEDBgAAEDEgAEAAEQMGAAAQMSAAQAARAwYAABAxIABAABEDBgAAEDEgAEAAEQMGAAAQMSAAQAARAwYAABAxIABAABEDBgAAEDEgAEAAEQMGAAAQMSAAQAARAwYAABAxIABAABEDBgAAEDEgAEAAEQMGAAAQMSAAQAARAwYAABAxIABAABEDBgAAEDEgAEAAEQMGAAAQMSAAQAARAwYAABAxIABAABEDBgAAEDEgAEAAEQMGAAAQMSAAQAARAwYAABAxIABAABEDBgAAEDEgAEAAEQMGAAAQMSAAQAARAwYAABAxIABAABEDBgAAEDEgAEAAEQMGAAAQMSAAQAARAwYAABAxIABAABEDBgAAEDEgAEAAEQMGAAAQMSAAQAARAwYAABAxIABAABEDBgAAEDEgAEAAEQMGAAAQMSAAQAARAwYAABAxIABAABEDBgAAEDEgAEAAEQMGAAAQMSAAQAARAwYAABAxIABAABEDBgAAEDEgAEAAEQMGAAAQMSAAQAARAwYAABAxIABAABEDBgAAEDEgAEAAEQMGAAAQMSAAQAARAwYAABAxIABAABEDBgAAEDEgAEAAEQMGAAAQGQD+wUIfMggoFoAAAAASUVORK5CYII=&quot; width=&quot;432px&quot; height=&quot;288px&quot; alt=&quot;&quot;&gt;&lt;/img&gt;\",\"width\":432},\"id\":\"1060\",\"type\":\"panel.models.markup.HTML\"},{\"attributes\":{\"reload\":false},\"id\":\"1066\",\"type\":\"panel.models.location.Location\"},{\"attributes\":{\"children\":[{\"id\":\"1060\"}],\"margin\":[0,0,0,0],\"name\":\"Row01612\"},\"id\":\"1059\",\"type\":\"Row\"},{\"attributes\":{\"margin\":[0,0,0,0],\"name\":\"Column01619\"},\"id\":\"1062\",\"type\":\"Column\"},{\"attributes\":{\"margin\":[5,5,5,5],\"name\":\"Averages by Household\",\"text\":\"&lt;pre&gt;(&lt;function average_sales_price at 0x00000220C1BC7318&gt;, &lt;function average_gross_rent at 0x00000220C39D4AF8&gt;, &lt;function housing_units_per_year at 0x00000220C39D45E8&gt;)&lt;/pre&gt;\"},\"id\":\"1055\",\"type\":\"panel.models.markup.HTML\"},{\"attributes\":{\"children\":[{\"id\":\"1054\"},{\"id\":\"1055\"},{\"id\":\"1056\"},{\"id\":\"1057\"},{\"id\":\"1061\"}],\"margin\":[0,0,0,0],\"name\":\"Column01579\"},\"id\":\"1053\",\"type\":\"Column\"},{\"attributes\":{\"margin\":[5,5,5,5],\"name\":\"Neighborhoods\",\"text\":\"&lt;pre&gt;(&lt;function average_price_by_neighborhood at 0x00000220BA220708&gt;, &lt;function top_most_expensive_neighborhoods at 0x00000220BA220678&gt;)&lt;/pre&gt;\"},\"id\":\"1056\",\"type\":\"panel.models.markup.HTML\"},{\"attributes\":{\"children\":[{\"id\":\"1064\"}],\"margin\":[0,0,0,0],\"name\":\"Row01618\"},\"id\":\"1063\",\"type\":\"Row\"},{\"attributes\":{\"height\":288,\"margin\":[5,5,5,5],\"name\":\"Matplotlib01616\",\"text\":\"&lt;img src=&quot;data:image/png;base64,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&quot; width=&quot;432px&quot; height=&quot;288px&quot; alt=&quot;&quot;&gt;&lt;/img&gt;\",\"width\":432},\"id\":\"1064\",\"type\":\"panel.models.markup.HTML\"},{\"attributes\":{\"client_comm_id\":\"30f52c6ec6554e01aa9e580f0e4cc555\",\"comm_id\":\"c2415d2d275e4bdda3e4b006d090a12f\",\"plot_id\":\"1053\"},\"id\":\"1065\",\"type\":\"panel.models.comm_manager.CommManager\"},{\"attributes\":{\"children\":[{\"id\":\"1062\"},{\"id\":\"1063\"}],\"margin\":[0,0,0,0],\"name\":\"Column01615\"},\"id\":\"1061\",\"type\":\"Column\"},{\"attributes\":{\"css_classes\":[\"markdown\"],\"margin\":[5,5,5,5],\"name\":\"Markdown01577\",\"text\":\"&lt;h1&gt;San Francisco Rental Price Visualizations&lt;/h1&gt;\"},\"id\":\"1054\",\"type\":\"panel.models.markup.HTML\"}],\"root_ids\":[\"1053\",\"1065\",\"1066\"]},\"title\":\"Bokeh Application\",\"version\":\"2.2.3\"}};\n",
       "    var render_items = [{\"docid\":\"bbf64d63-79bc-43fd-b8a7-1b3afe7f9398\",\"root_ids\":[\"1053\"],\"roots\":{\"1053\":\"baf90a29-8c6d-4156-a1e8-9e673ad3b323\"}}];\n",
       "    root.Bokeh.embed.embed_items_notebook(docs_json, render_items);\n",
       "  }\n",
       "  if (root.Bokeh !== undefined && root.Bokeh.Panel !== undefined && root['Plotly'] !== undefined ) {\n",
       "    embed_document(root);\n",
       "  } else {\n",
       "    var attempts = 0;\n",
       "    var timer = setInterval(function(root) {\n",
       "      if (root.Bokeh !== undefined && root.Bokeh.Panel !== undefined && root['Plotly'] !== undefined) {\n",
       "        clearInterval(timer);\n",
       "        embed_document(root);\n",
       "      } else if (document.readyState == \"complete\") {\n",
       "        attempts++;\n",
       "        if (attempts > 100) {\n",
       "          clearInterval(timer);\n",
       "          console.log(\"Bokeh: ERROR: Unable to run BokehJS code because BokehJS library is missing\");\n",
       "        }\n",
       "      }\n",
       "    }, 10, root)\n",
       "  }\n",
       "})(window);</script>"
      ],
      "text/plain": [
       "Column\n",
       "    [0] Markdown(str)\n",
       "    [1] Str(tuple, name='Averages by Household')\n",
       "    [2] Str(tuple, name='Neighborhoods')\n",
       "    [3] Column\n",
       "        [0] Column()\n",
       "        [1] Row\n",
       "            [0] Matplotlib(Figure)\n",
       "    [4] Column\n",
       "        [0] Column()\n",
       "        [1] Row\n",
       "            [0] Matplotlib(Figure)"
      ]
     },
     "execution_count": 56,
     "metadata": {
      "application/vnd.holoviews_exec.v0+json": {
       "id": "1053"
      }
     },
     "output_type": "execute_result"
    }
   ],
   "source": [
    "# Serve the# dashboard\n",
    "dashboard.servable()"
   ]
  },
  {
   "cell_type": "markdown",
   "metadata": {},
   "source": [
    "# Debugging\n",
    "\n",
    "Note: Some of the Plotly express plots may not render in the notebook through the panel functions.\n",
    "\n",
    "However, you can test each plot by uncommenting the following code"
   ]
  },
  {
   "cell_type": "code",
   "execution_count": null,
   "metadata": {},
   "outputs": [],
   "source": [
    "# housing_units_per_year()"
   ]
  },
  {
   "cell_type": "code",
   "execution_count": null,
   "metadata": {},
   "outputs": [],
   "source": [
    "# average_gross_rent()"
   ]
  },
  {
   "cell_type": "code",
   "execution_count": null,
   "metadata": {},
   "outputs": [],
   "source": [
    "# average_sales_price()"
   ]
  },
  {
   "cell_type": "code",
   "execution_count": null,
   "metadata": {},
   "outputs": [],
   "source": [
    "# average_price_by_neighborhood()"
   ]
  },
  {
   "cell_type": "code",
   "execution_count": null,
   "metadata": {},
   "outputs": [],
   "source": [
    "# top_most_expensive_neighborhoods()"
   ]
  },
  {
   "cell_type": "code",
   "execution_count": null,
   "metadata": {},
   "outputs": [],
   "source": [
    "# most_expensive_neighborhoods_rent_sales()"
   ]
  },
  {
   "cell_type": "code",
   "execution_count": null,
   "metadata": {},
   "outputs": [],
   "source": [
    "# neighborhood_map().show()"
   ]
  },
  {
   "cell_type": "code",
   "execution_count": null,
   "metadata": {},
   "outputs": [],
   "source": [
    "# parallel_categories()"
   ]
  },
  {
   "cell_type": "code",
   "execution_count": null,
   "metadata": {},
   "outputs": [],
   "source": [
    "# parallel_coordinates()"
   ]
  },
  {
   "cell_type": "code",
   "execution_count": null,
   "metadata": {},
   "outputs": [],
   "source": [
    "# sunburst()"
   ]
  },
  {
   "cell_type": "code",
   "execution_count": null,
   "metadata": {},
   "outputs": [],
   "source": []
  }
 ],
 "metadata": {
  "file_extension": ".py",
  "kernelspec": {
   "display_name": "Python [conda env:pyvizenv] *",
   "language": "python",
   "name": "conda-env-pyvizenv-py"
  },
  "language_info": {
   "codemirror_mode": {
    "name": "ipython",
    "version": 3
   },
   "file_extension": ".py",
   "mimetype": "text/x-python",
   "name": "python",
   "nbconvert_exporter": "python",
   "pygments_lexer": "ipython3",
   "version": "3.7.9"
  },
  "mimetype": "text/x-python",
  "name": "python",
  "npconvert_exporter": "python",
  "pygments_lexer": "ipython3",
  "version": 3
 },
 "nbformat": 4,
 "nbformat_minor": 4
}
